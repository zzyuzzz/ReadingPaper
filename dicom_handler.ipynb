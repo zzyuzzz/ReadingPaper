{
 "cells": [
  {
   "cell_type": "code",
   "execution_count": 1,
   "metadata": {},
   "outputs": [],
   "source": [
    "import pydicom\n",
    "import numpy as np\n",
    "import os\n",
    "\n",
    "def load_dicom_series(directory):\n",
    "    slices = []\n",
    "    for filename in os.listdir(directory):\n",
    "        filepath = os.path.join(directory, filename)\n",
    "        ds = pydicom.dcmread(filepath)\n",
    "        slices.append(ds)\n",
    "    \n",
    "    # 按照切片的位置（Image Position Patient）排序\n",
    "    slices.sort(key=lambda x: x.ImagePositionPatient[2])\n",
    "    \n",
    "    return slices\n",
    "\n",
    "# 示例：加载 DICOM 系列\n",
    "directory = r\"dicomPath\"\n",
    "slices = load_dicom_series(directory)\n"
   ]
  },
  {
   "cell_type": "code",
   "execution_count": 2,
   "metadata": {},
   "outputs": [],
   "source": [
    "# 提取一个切片的关键元数据\n",
    "ds = slices[0]\n",
    "IPP = np.array(ds.ImagePositionPatient)\n",
    "IOP = np.array(ds.ImageOrientationPatient)\n",
    "PS = np.array(ds.PixelSpacing)\n",
    "slice_thickness = ds.SliceThickness\n"
   ]
  },
  {
   "cell_type": "code",
   "execution_count": 3,
   "metadata": {},
   "outputs": [
    {
     "name": "stdout",
     "output_type": "stream",
     "text": [
      "Pixel (i, j) = (100, 150) in patient coordinate system: [ -21.50418055   75.48817786 -609.39688217]\n"
     ]
    }
   ],
   "source": [
    "# 将 IOP 拆分为行方向和列方向向量\n",
    "row_vector = IOP[:3]\n",
    "col_vector = IOP[3:]\n",
    "\n",
    "# 计算每个像素的物理坐标\n",
    "def compute_patient_coordinates(IPP, row_vector, col_vector, PS, i, j):\n",
    "    x = IPP[0] + i * row_vector[0] * PS[0] + j * col_vector[0] * PS[1]\n",
    "    y = IPP[1] + i * row_vector[1] * PS[0] + j * col_vector[1] * PS[1]\n",
    "    z = IPP[2] + i * row_vector[2] * PS[0] + j * col_vector[2] * PS[1]\n",
    "    return np.array([x, y, z])\n",
    "\n",
    "# 示例：计算像素 (i, j) = (100, 150) 的患者坐标\n",
    "i, j = 100, 150\n",
    "patient_coord = compute_patient_coordinates(IPP, row_vector, col_vector, PS, i, j)\n",
    "print(f\"Pixel (i, j) = ({i}, {j}) in patient coordinate system: {patient_coord}\")\n"
   ]
  },
  {
   "cell_type": "code",
   "execution_count": 4,
   "metadata": {},
   "outputs": [],
   "source": [
    "def convert_dicom_series_to_patient_coordinates(slices):\n",
    "    volume = []\n",
    "    for ds in slices:\n",
    "        IPP = np.array(ds.ImagePositionPatient)\n",
    "        IOP = np.array(ds.ImageOrientationPatient)\n",
    "        PS = np.array(ds.PixelSpacing)\n",
    "        row_vector = IOP[:3]\n",
    "        col_vector = IOP[3:]\n",
    "        \n",
    "        rows, cols = ds.pixel_array.shape\n",
    "        slice_coords = np.zeros((rows, cols, 3))\n",
    "        \n",
    "        for i in range(rows):\n",
    "            for j in range(cols):\n",
    "                slice_coords[i, j] = compute_patient_coordinates(IPP, row_vector, col_vector, PS, i, j)\n",
    "        \n",
    "        volume.append(slice_coords)\n",
    "    \n",
    "    return np.array(volume)\n",
    "\n",
    "# 转换整个 DICOM 系列为三维坐标\n",
    "patient_coordinates_volume = convert_dicom_series_to_patient_coordinates(slices)\n"
   ]
  },
  {
   "cell_type": "code",
   "execution_count": 5,
   "metadata": {},
   "outputs": [
    {
     "data": {
      "text/plain": [
       "array([  93.84068064,  158.50361412, -395.68208832])"
      ]
     },
     "execution_count": 5,
     "metadata": {},
     "output_type": "execute_result"
    }
   ],
   "source": [
    "patient_coordinates_volume.max(axis=(0, 1, 2))"
   ]
  },
  {
   "cell_type": "code",
   "execution_count": 6,
   "metadata": {},
   "outputs": [
    {
     "name": "stdout",
     "output_type": "stream",
     "text": [
      "Resolution (mm): [0.5 0.5 3.5]\n"
     ]
    }
   ],
   "source": [
    "def determine_resolution(slice):\n",
    "    ps = slice.PixelSpacing  # Pixel Spacing, usually a list [row_spacing, col_spacing]\n",
    "    st = slice.SliceThickness  # Slice Thickness\n",
    "    ss = getattr(slice, 'SpacingBetweenSlices', st)  # Slice Spacing, if exists\n",
    "\n",
    "    # 分辨率即为每个体素在患者坐标系中的物理尺寸\n",
    "    resolution = np.array([ps[1], ps[0], ss])  # [x_spacing, y_spacing, z_spacing]\n",
    "    \n",
    "    return resolution\n",
    "\n",
    "# 示例：从一个 DICOM 切片中提取分辨率\n",
    "resolution = determine_resolution(slices[0])\n",
    "print(\"Resolution (mm):\", resolution)"
   ]
  },
  {
   "cell_type": "markdown",
   "metadata": {},
   "source": [
    "### 3. 根据所有切片的一致性验证分辨率\n",
    "在某些情况下，DICOM 文件中的 Pixel Spacing 和 Slice Thickness 可能会略有不同（通常不常见），这可能会导致分辨率在不同切片间存在差异。因此，建议在处理所有切片之前，检查这些值是否一致。"
   ]
  },
  {
   "cell_type": "code",
   "execution_count": 7,
   "metadata": {},
   "outputs": [],
   "source": [
    "def check_resolution_consistency(slices):\n",
    "    first_resolution = determine_resolution(slices[0])\n",
    "    \n",
    "    for slice in slices[1:]:\n",
    "        resolution = determine_resolution(slice)\n",
    "        if not np.allclose(first_resolution, resolution, rtol=1e-5):\n",
    "            print(\"Warning: Inconsistent resolution detected across slices.\")\n",
    "            break\n",
    "    \n",
    "    return first_resolution\n",
    "\n",
    "# 检查所有切片的分辨率一致性\n",
    "resolution = check_resolution_consistency(slices)\n"
   ]
  },
  {
   "cell_type": "markdown",
   "metadata": {},
   "source": [
    "### 处理切片分辨率不一致的步骤\n",
    "1. 检查不一致性\n",
    "首先，检查所有切片的分辨率，以确定是否存在显著差异。这包括检查 Pixel Spacing（即 x 和 y 方向上的分辨率）以及 Slice Thickness 或 Spacing Between Slices（z 方向上的分辨率）。"
   ]
  },
  {
   "cell_type": "code",
   "execution_count": 8,
   "metadata": {},
   "outputs": [],
   "source": [
    "def check_resolution_consistency(slices):\n",
    "    first_resolution = determine_resolution(slices[0])\n",
    "    resolutions = []\n",
    "    \n",
    "    for slice in slices:\n",
    "        resolution = determine_resolution(slice)\n",
    "        resolutions.append(resolution)\n",
    "        if not np.allclose(first_resolution, resolution, rtol=1e-5):\n",
    "            print(f\"Resolution inconsistency found in slice with SOPInstanceUID {slice.SOPInstanceUID}: {resolution}\")\n",
    "    \n",
    "    return resolutions\n",
    "\n",
    "# 检查所有切片的分辨率\n",
    "resolutions = check_resolution_consistency(slices)\n"
   ]
  },
  {
   "cell_type": "markdown",
   "metadata": {},
   "source": [
    "2. 选择统一的分辨率\n",
    "   \n",
    "    在处理不一致的分辨率时，可以选择一个统一的分辨率。通常有两种方法：\n",
    "    + 最大公约数法：选择一个所有切片都能整除的最小公约分辨率。\n",
    "    + 平均分辨率法：计算所有切片分辨率的平均值，并将其作为统一分辨率"
   ]
  },
  {
   "cell_type": "code",
   "execution_count": 9,
   "metadata": {},
   "outputs": [
    {
     "name": "stdout",
     "output_type": "stream",
     "text": [
      "Mean Resolution: [0.5 0.5 3.5]\n"
     ]
    }
   ],
   "source": [
    "# 计算平均分辨率\n",
    "mean_resolution = np.mean(resolutions, axis=0)\n",
    "print(\"Mean Resolution:\", mean_resolution)"
   ]
  },
  {
   "cell_type": "markdown",
   "metadata": {},
   "source": [
    "3. 重采样（Resampling）切片\n",
    "\n",
    "    将每个切片重采样到统一的分辨率。这可以使用插值技术将不同分辨率的切片调整为相同的目标分辨率。可以使用 scipy.ndimage 中的 zoom 函数来实现这一点。"
   ]
  },
  {
   "cell_type": "code",
   "execution_count": null,
   "metadata": {},
   "outputs": [],
   "source": [
    "from scipy.ndimage import zoom\n",
    "\n",
    "def resample_slice(slice, target_resolution):\n",
    "    original_resolution = determine_resolution(slice)\n",
    "    zoom_factors = original_resolution / target_resolution\n",
    "    \n",
    "    # 对像素数据进行重采样\n",
    "    resampled_data = zoom(slice.pixel_array, zoom_factors, order=1)  # 使用线性插值 (order=1)\n",
    "    \n",
    "    # 更新切片数据\n",
    "    slice.pixel_array = resampled_data\n",
    "    slice.PixelSpacing = [target_resolution[1], target_resolution[0]]\n",
    "    if hasattr(slice, 'SliceThickness'):\n",
    "        slice.SliceThickness = target_resolution[2]\n",
    "    \n",
    "    return slice\n",
    "\n",
    "# 对所有切片进行重采样\n",
    "target_resolution = mean_resolution  # 或者选择最大公约数\n",
    "resampled_slices = [resample_slice(slice, target_resolution) for slice in slices]\n"
   ]
  },
  {
   "cell_type": "code",
   "execution_count": null,
   "metadata": {},
   "outputs": [],
   "source": [
    "import numpy as np\n",
    "\n",
    "def initialize_volume(min_coord, max_coord, resolution):\n",
    "    # 计算三维体积的尺寸\n",
    "    volume_shape = np.ceil((max_coord - min_coord) / resolution).astype(int)\n",
    "    # 初始化三维体积，通常用零填充\n",
    "    volume = np.zeros(volume_shape)\n",
    "    return volume, volume_shape\n",
    "\n",
    "# 假设 min_coord 和 max_coord 是已知的三维空间的边界\n",
    "# 假设 resolution 是一个三维向量，代表 x, y, z 方向上的分辨率\n",
    "volume, volume_shape = initialize_volume(patient_coordinates_volume.min(axis=(0, 1, 2)), patient_coordinates_volume.max(axis=(0, 1, 2)), resolution)\n"
   ]
  }
 ],
 "metadata": {
  "kernelspec": {
   "display_name": "Withdicom",
   "language": "python",
   "name": "python3"
  },
  "language_info": {
   "codemirror_mode": {
    "name": "ipython",
    "version": 3
   },
   "file_extension": ".py",
   "mimetype": "text/x-python",
   "name": "python",
   "nbconvert_exporter": "python",
   "pygments_lexer": "ipython3",
   "version": "3.12.4"
  }
 },
 "nbformat": 4,
 "nbformat_minor": 2
}
